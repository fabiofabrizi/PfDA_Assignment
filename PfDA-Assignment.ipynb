{
 "cells": [
  {
   "cell_type": "markdown",
   "id": "664a72aa",
   "metadata": {},
   "source": [
    "# Programming for Data Analysis Assignment"
   ]
  },
  {
   "cell_type": "code",
   "execution_count": 2,
   "id": "9e90d38a",
   "metadata": {},
   "outputs": [],
   "source": [
    "import numpy as np\n",
    "# Import matplotlib to visualise data\n",
    "import matplotlib.pyplot as plt"
   ]
  },
  {
   "cell_type": "markdown",
   "id": "a71a3b49",
   "metadata": {},
   "source": [
    "### Below generates a random number"
   ]
  },
  {
   "cell_type": "code",
   "execution_count": 7,
   "id": "47b32e48",
   "metadata": {},
   "outputs": [
    {
     "data": {
      "text/plain": [
       "0.22774447422520383"
      ]
     },
     "execution_count": 7,
     "metadata": {},
     "output_type": "execute_result"
    }
   ],
   "source": [
    "rng = np.random.default_rng()\n",
    "rng.random()\n"
   ]
  },
  {
   "cell_type": "markdown",
   "id": "8e7c0f4d",
   "metadata": {},
   "source": [
    "### Generating multiple random numbers\n"
   ]
  },
  {
   "cell_type": "code",
   "execution_count": 9,
   "id": "8b96d9ed",
   "metadata": {},
   "outputs": [
    {
     "data": {
      "text/plain": [
       "array([0.63050338, 0.03331735, 0.63908973, 0.09561283, 0.91220762])"
      ]
     },
     "execution_count": 9,
     "metadata": {},
     "output_type": "execute_result"
    }
   ],
   "source": [
    "rng = np.random.default_rng()\n",
    "rng.random(5)"
   ]
  },
  {
   "cell_type": "markdown",
   "id": "1324d0ec",
   "metadata": {},
   "source": [
    "### Generating multiple numbers in a 2-d array:"
   ]
  },
  {
   "cell_type": "code",
   "execution_count": 13,
   "id": "d668fe29",
   "metadata": {},
   "outputs": [
    {
     "data": {
      "text/plain": [
       "array([[0.32521505, 0.81375966, 0.55211655, 0.86684597],\n",
       "       [0.69201506, 0.35853992, 0.44372877, 0.92590046],\n",
       "       [0.35906048, 0.95913112, 0.15956181, 0.45227215],\n",
       "       [0.33475428, 0.3118906 , 0.25352242, 0.47570235],\n",
       "       [0.40423522, 0.36446658, 0.32920926, 0.67841328]])"
      ]
     },
     "execution_count": 13,
     "metadata": {},
     "output_type": "execute_result"
    }
   ],
   "source": [
    "# Note how now we have to encapsulate the brackets so that we don't get the \n",
    "# data type error\n",
    "rng = np.random.default_rng()\n",
    "# 5 rows, 4 columns\n",
    "rng.random((5, 4))"
   ]
  },
  {
   "cell_type": "markdown",
   "id": "734ba359",
   "metadata": {},
   "source": [
    "### Generating thousands of random numbers:"
   ]
  },
  {
   "cell_type": "code",
   "execution_count": 14,
   "id": "96be3542",
   "metadata": {},
   "outputs": [
    {
     "name": "stdout",
     "output_type": "stream",
     "text": [
      "[0.65187669 0.65449594 0.9665523  ... 0.02502341 0.3283262  0.32863915]\n"
     ]
    }
   ],
   "source": [
    "rng = np.random.default_rng()\n",
    "x = rng.random(10000)\n",
    "print(x)"
   ]
  },
  {
   "cell_type": "markdown",
   "id": "25e83601",
   "metadata": {},
   "source": [
    "**Now visualise the data using matplotlib:**"
   ]
  },
  {
   "cell_type": "code",
   "execution_count": 18,
   "id": "482e849e",
   "metadata": {
    "scrolled": false
   },
   "outputs": [
    {
     "data": {
      "image/png": "[encoded data removed]",
      "text/plain": [
       "<Figure size 640x480 with 1 Axes>"
      ]
     },
     "metadata": {},
     "output_type": "display_data"
    }
   ],
   "source": [
    "# Generate the plot\n",
    "plt.hist(x)\n",
    "# Display the plot\n",
    "plt.show()"
   ]
  },
  {
   "cell_type": "code",
   "execution_count": 9,
   "id": "48201955",
   "metadata": {},
   "outputs": [
    {
     "name": "stdout",
     "output_type": "stream",
     "text": [
      "[-0.04411628  0.09380561 -0.02281746 ...  0.00144108  0.0860675\n",
      " -0.13633055]\n"
     ]
    }
   ],
   "source": [
    "# Generate random data for a normal distribution\n",
    "y = np.random.normal(0, 0.1, 100000)\n",
    "\n",
    "# Results will show that the max is 3 standard deviations away from the mean\n",
    "# So 3 * 0.1 = 0.3\n",
    "print(y)"
   ]
  },
  {
   "cell_type": "code",
   "execution_count": 8,
   "id": "bed34853",
   "metadata": {},
   "outputs": [
    {
     "data": {
      "image/png": "[encoded data removed]",
      "text/plain": [
       "<Figure size 640x480 with 1 Axes>"
      ]
     },
     "metadata": {},
     "output_type": "display_data"
    }
   ],
   "source": [
    "plt.hist(y)\n",
    "plt.show()"
   ]
  },
  {
   "cell_type": "code",
   "execution_count": 10,
   "id": "38b69c2a",
   "metadata": {},
   "outputs": [],
   "source": [
    "#\n",
    "rng = np.random.default_rng(seed=42)"
   ]
  },
  {
   "cell_type": "code",
   "execution_count": 11,
   "id": "36341fe7",
   "metadata": {},
   "outputs": [],
   "source": [
    "x = rng.random((5,3))"
   ]
  },
  {
   "cell_type": "code",
   "execution_count": 16,
   "id": "4d426231",
   "metadata": {},
   "outputs": [
    {
     "name": "stdout",
     "output_type": "stream",
     "text": [
      "[[0.77395605 0.43887844 0.85859792]\n",
      " [0.69736803 0.09417735 0.97562235]\n",
      " [0.7611397  0.78606431 0.12811363]\n",
      " [0.45038594 0.37079802 0.92676499]\n",
      " [0.64386512 0.82276161 0.4434142 ]]\n"
     ]
    }
   ],
   "source": [
    "print(x)"
   ]
  },
  {
   "cell_type": "code",
   "execution_count": null,
   "id": "4e4b882b",
   "metadata": {},
   "outputs": [],
   "source": []
  },
  {
   "cell_type": "code",
   "execution_count": null,
   "id": "bb1c1693",
   "metadata": {},
   "outputs": [],
   "source": []
  },
  {
   "cell_type": "code",
   "execution_count": null,
   "id": "fe4f775d",
   "metadata": {},
   "outputs": [],
   "source": []
  },
  {
   "cell_type": "code",
   "execution_count": null,
   "id": "02e3cb48",
   "metadata": {},
   "outputs": [],
   "source": []
  },
  {
   "cell_type": "code",
   "execution_count": null,
   "id": "121882de",
   "metadata": {},
   "outputs": [],
   "source": []
  },
  {
   "cell_type": "code",
   "execution_count": null,
   "id": "199859af",
   "metadata": {},
   "outputs": [],
   "source": []
  },
  {
   "cell_type": "code",
   "execution_count": null,
   "id": "e16fe76f",
   "metadata": {},
   "outputs": [],
   "source": []
  },
  {
   "cell_type": "code",
   "execution_count": null,
   "id": "b7ff4ace",
   "metadata": {},
   "outputs": [],
   "source": []
  }
 ],
 "metadata": {
  "kernelspec": {
   "display_name": "Python 3 (ipykernel)",
   "language": "python",
   "name": "python3"
  },
  "language_info": {
   "codemirror_mode": {
    "name": "ipython",
    "version": 3
   },
   "file_extension": ".py",
   "mimetype": "text/x-python",
   "name": "python",
   "nbconvert_exporter": "python",
   "pygments_lexer": "ipython3",
   "version": "3.9.13"
  }
 },
 "nbformat": 4,
 "nbformat_minor": 5
}
